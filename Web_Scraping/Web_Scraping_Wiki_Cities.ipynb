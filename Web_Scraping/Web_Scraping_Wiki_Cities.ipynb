{
 "cells": [
  {
   "cell_type": "code",
   "execution_count": 20,
   "id": "17ba56bf",
   "metadata": {},
   "outputs": [],
   "source": [
    "#Import Libraries"
   ]
  },
  {
   "cell_type": "code",
   "execution_count": 1,
   "id": "c59d7a6d",
   "metadata": {},
   "outputs": [],
   "source": [
    "from bs4 import BeautifulSoup\n",
    "import requests\n",
    "import pandas as pd\n",
    "import re\n",
    "from sqlalchemy import create_engine"
   ]
  },
  {
   "cell_type": "code",
   "execution_count": 2,
   "id": "7dd5f6e1",
   "metadata": {},
   "outputs": [],
   "source": [
    "def create_wiki(cities):\n",
    "    # An initially empty list that will eventually store one dictionary of information for each city\n",
    "    list_city_df = []\n",
    "\n",
    "    # Web Scraping loop to generate a dictionary containing information for each city\n",
    "    for city in cities:\n",
    "        # We can take advantage of the consistent structure of Wikipedia URLs to our benefit \n",
    "        # All URLs share the same format, differing only in the specific city name\n",
    "        url = f'https://en.wikipedia.org/wiki/{city}'\n",
    "        # Here we create the BeautifulSoup object for the city\n",
    "        r = requests.get(url)\n",
    "        soup_city = BeautifulSoup(r.content, 'html.parser')\n",
    "\n",
    "        # Here, we set up our empty dictionary to store information specific to the city\n",
    "        city_dict = {}\n",
    "\n",
    "        # Here we fill the dictionary with information using the ids, classes, and selectors that we found in the html\n",
    "        city_dict['city'] = soup_city.select_one(\".firstHeading\").get_text()\n",
    "\n",
    "        # Check if the country information is present\n",
    "        country_element = soup_city.select_one(\".infobox-data\")\n",
    "        city_dict['country'] = country_element.get_text() if country_element else None\n",
    "\n",
    "        city_dict['latitude'] = soup_city.select_one(\".latitude\").get_text()\n",
    "        city_dict['longitude'] = soup_city.select_one(\".longitude\").get_text()\n",
    "\n",
    "        # not all Wikipedia pages include elevation information like the city Hamburg\n",
    "        # the 'if' statement ensures our code can proceed without being halted by this obstacle\n",
    "        # Checks if elevation information is present on the Wikipedia page and adds it to the dictionary if available\n",
    "        if soup_city.select_one('.infobox-label:-soup-contains(\"Elevation\")'):\n",
    "            city_dict['elevation'] = soup_city.select_one('.infobox-label:-soup-contains(\"Elevation\")').find_next(class_='infobox-data').get_text()\n",
    "        \n",
    "        # append the dictionary for the city to the list_city_df\n",
    "        list_city_df.append(city_dict)\n",
    "\n",
    "    # make a DataFrame with the list\n",
    "    cities_df = pd.DataFrame(list_city_df)\n",
    "\n",
    "    # Data Cleaning\n",
    "    cities_df['latitude'] = cities_df['latitude'].str.split('″').str[0].str.replace('°', '.', regex=False).str.replace('′', '', regex=False)\n",
    "    cities_df['longitude'] = cities_df['longitude'].str.split('″').str[0].str.replace('°', '.', regex=False).str.replace('′', '', regex=False)\n",
    "    cities_df.insert(4, 'elevation_in_meters', cities_df['elevation'].str.extract('(\\d+)').astype(float))\n",
    "\n",
    "    # return the DataFrame\n",
    "    return cities_df\n"
   ]
  },
  {
   "cell_type": "code",
   "execution_count": 6,
   "id": "5e277d4e",
   "metadata": {},
   "outputs": [],
   "source": [
    "list_of_cities = ['Berlin', 'Hamburg', 'Munich']\n",
    "cities_df = create_wiki(list_of_cities)"
   ]
  },
  {
   "cell_type": "code",
   "execution_count": 7,
   "id": "c8ea5d67",
   "metadata": {},
   "outputs": [
    {
     "data": {
      "text/html": [
       "<div>\n",
       "<style scoped>\n",
       "    .dataframe tbody tr th:only-of-type {\n",
       "        vertical-align: middle;\n",
       "    }\n",
       "\n",
       "    .dataframe tbody tr th {\n",
       "        vertical-align: top;\n",
       "    }\n",
       "\n",
       "    .dataframe thead th {\n",
       "        text-align: right;\n",
       "    }\n",
       "</style>\n",
       "<table border=\"1\" class=\"dataframe\">\n",
       "  <thead>\n",
       "    <tr style=\"text-align: right;\">\n",
       "      <th></th>\n",
       "      <th>city</th>\n",
       "      <th>country</th>\n",
       "      <th>latitude</th>\n",
       "      <th>longitude</th>\n",
       "      <th>elevation_in_meters</th>\n",
       "      <th>elevation</th>\n",
       "    </tr>\n",
       "  </thead>\n",
       "  <tbody>\n",
       "    <tr>\n",
       "      <th>0</th>\n",
       "      <td>Berlin</td>\n",
       "      <td>Germany</td>\n",
       "      <td>52.3112</td>\n",
       "      <td>13.2418</td>\n",
       "      <td>34.0</td>\n",
       "      <td>34 m (112 ft)</td>\n",
       "    </tr>\n",
       "    <tr>\n",
       "      <th>1</th>\n",
       "      <td>Hamburg</td>\n",
       "      <td>Germany</td>\n",
       "      <td>53.33N</td>\n",
       "      <td>10.00E</td>\n",
       "      <td>NaN</td>\n",
       "      <td>NaN</td>\n",
       "    </tr>\n",
       "    <tr>\n",
       "      <th>2</th>\n",
       "      <td>Munich</td>\n",
       "      <td>Germany</td>\n",
       "      <td>48.0815</td>\n",
       "      <td>11.3430</td>\n",
       "      <td>520.0</td>\n",
       "      <td>520 m (1,710 ft)</td>\n",
       "    </tr>\n",
       "  </tbody>\n",
       "</table>\n",
       "</div>"
      ],
      "text/plain": [
       "      city  country latitude longitude  elevation_in_meters         elevation\n",
       "0   Berlin  Germany  52.3112   13.2418                 34.0     34 m (112 ft)\n",
       "1  Hamburg  Germany   53.33N    10.00E                  NaN               NaN\n",
       "2   Munich  Germany  48.0815   11.3430                520.0  520 m (1,710 ft)"
      ]
     },
     "execution_count": 7,
     "metadata": {},
     "output_type": "execute_result"
    }
   ],
   "source": [
    "cities_df"
   ]
  },
  {
   "cell_type": "code",
   "execution_count": 26,
   "id": "f44791d6",
   "metadata": {},
   "outputs": [],
   "source": [
    "## 5.&nbsp; Sending the information from this notebook to sql 📠"
   ]
  },
  {
   "cell_type": "code",
   "execution_count": null,
   "id": "3c3ba4f4",
   "metadata": {},
   "outputs": [],
   "source": [
    "#Creating the matching city table with SQL\n",
    "#Open MySQL Workbench, open a local connection, and open a new file. Then copy and paste the code from below"
   ]
  },
  {
   "cell_type": "code",
   "execution_count": null,
   "id": "7423a66c",
   "metadata": {},
   "outputs": [],
   "source": [
    "-- DROP DATABASE web_Scrap_wiki_database\n",
    "-- CREATE DATABASE web_Scrap_wiki_database;\n",
    "USE web_Scrap_wiki_database;\n",
    "\n",
    "-- DROP TABLE cities;\n",
    "CREATE TABLE cities (\n",
    "    city_id INT AUTO_INCREMENT,\n",
    "    city VARCHAR(50),\n",
    "    country VARCHAR(50),\n",
    "    PRIMARY KEY (city_id)\n",
    ");\n",
    "\n",
    "-- DROP TABLE other_facts;\n",
    "CREATE TABLE other_facts (\n",
    "    city_id INT,\n",
    "    latitude FLOAT(6),\n",
    "    longitude FLOAT(6),\n",
    "    elevation_in_meters INTEGER,\n",
    "    elevation VARCHAR(50),\n",
    "    website VARCHAR(100),\n",
    "    population INTEGER,\n",
    "    PRIMARY KEY (city_id), -- Change this line to use city_id as the primary key\n",
    "    FOREIGN KEY (city_id) REFERENCES cities(city_id)\n",
    ");cities"
   ]
  },
  {
   "cell_type": "code",
   "execution_count": 8,
   "id": "24867556",
   "metadata": {},
   "outputs": [],
   "source": [
    "host = \"127.0.0.1\"\n",
    "user = \"root\"\n",
    "password = \"ire3812802P$mel$\"\n",
    "port = 3306\n",
    "database_name = \"gans_db\"\n",
    "\n",
    "connection_string_without_db = f'mysql+pymysql://{user}:{password}@{host}:{port}/'\n",
    "engine_without_db = create_engine(connection_string_without_db)\n",
    "\n",
    "with engine_without_db.connect() as connection:\n",
    "    connection.execute(f\"CREATE DATABASE IF NOT EXISTS {database_name}\")\n",
    "\n",
    "connection_string = f'mysql+pymysql://{user}:{password}@{host}:{port}/{database_name}'\n",
    "engine = create_engine(connection_string)"
   ]
  },
  {
   "cell_type": "code",
   "execution_count": null,
   "id": "9c4f38ea",
   "metadata": {},
   "outputs": [],
   "source": [
    "#Preparing and sending the tables to sql"
   ]
  },
  {
   "cell_type": "code",
   "execution_count": 11,
   "id": "a679bdac",
   "metadata": {},
   "outputs": [],
   "source": [
    "schema=\"gans_db\"   # name of the database you want to use here\n",
    "host=\"127.0.0.1\"        # to connect to your local server\n",
    "user=\"admin\"\n",
    "password=\"ire3812802P$mel$\" # your password!!!!\n",
    "port=3306\n",
    "con = f'mysql+pymysql://{user}:{password}@{host}:{port}/{schema}'\n",
    "\n"
   ]
  },
  {
   "cell_type": "code",
   "execution_count": 14,
   "id": "c95111dd",
   "metadata": {},
   "outputs": [
    {
     "data": {
      "text/plain": [
       "2"
      ]
     },
     "execution_count": 14,
     "metadata": {},
     "output_type": "execute_result"
    }
   ],
   "source": [
    "from decimal import Decimal\n",
    "# Handle scientific notation in 'longitude' column\n",
    "def convert_longitude(x):\n",
    "    try:\n",
    "        return float(x)\n",
    "    except ValueError:\n",
    "        try:\n",
    "            return float(\"{:.6f}\".format(Decimal(x.replace('E', 'e'))))\n",
    "        except Exception as e:\n",
    "            print(f\"Error converting {x} to float: {e}\")\n",
    "            return None  # or any default value you prefer\n",
    "\n",
    "cities_df['longitude'] = cities_df['longitude'].apply(convert_longitude)\n",
    "\n",
    "# Drop rows where longitude conversion failed\n",
    "cities_df = cities_df.dropna(subset=['longitude'])\n",
    "\n",
    "cities_df = cities_df.astype({'latitude': float, 'longitude': float})\n",
    "\n",
    "cities_df.to_sql('cities_df', con=engine, if_exists='replace', index=False)"
   ]
  },
  {
   "cell_type": "code",
   "execution_count": null,
   "id": "043ec42e",
   "metadata": {},
   "outputs": [],
   "source": []
  },
  {
   "cell_type": "code",
   "execution_count": null,
   "id": "bdba8533",
   "metadata": {},
   "outputs": [],
   "source": []
  }
 ],
 "metadata": {
  "kernelspec": {
   "display_name": "Python 3 (ipykernel)",
   "language": "python",
   "name": "python3"
  },
  "language_info": {
   "codemirror_mode": {
    "name": "ipython",
    "version": 3
   },
   "file_extension": ".py",
   "mimetype": "text/x-python",
   "name": "python",
   "nbconvert_exporter": "python",
   "pygments_lexer": "ipython3",
   "version": "3.11.5"
  }
 },
 "nbformat": 4,
 "nbformat_minor": 5
}
