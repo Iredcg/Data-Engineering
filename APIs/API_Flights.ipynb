{
 "cells": [
  {
   "cell_type": "code",
   "execution_count": 4,
   "id": "b8c41d35",
   "metadata": {},
   "outputs": [],
   "source": [
    "import pandas as pd\n",
    "from datetime import datetime, timedelta\n",
    "import requests\n",
    "from pytz import timezone\n"
   ]
  },
  {
   "cell_type": "code",
   "execution_count": 9,
   "id": "b1209004",
   "metadata": {},
   "outputs": [
    {
     "data": {
      "text/plain": [
       "dict_keys(['departure', 'arrival', 'number', 'callSign', 'status', 'codeshareStatus', 'isCargo', 'aircraft', 'airline'])"
      ]
     },
     "execution_count": 9,
     "metadata": {},
     "output_type": "execute_result"
    }
   ],
   "source": [
    "icao = \"EDDB\" #Berlin Airport\n",
    "date = datetime.now().date() #current date\n",
    "time_1 = \"00:00\" #the time range for which I wanted to retrieve flight data\n",
    "time_2 = \"11:59\"\n",
    "\n",
    "url = f\"https://aerodatabox.p.rapidapi.com/flights/airports/icao/{icao}/{date}T{time_1}/{date}T{time_2}\"\n",
    "\n",
    "querystring = {\"withLeg\":\"true\",\n",
    "               \"direction\":\"Arrival\",\n",
    "               \"withCancelled\":\"false\",\n",
    "               \"withCodeshared\":\"true\",\n",
    "               \"withCargo\":\"false\",\n",
    "               \"withPrivate\":\"false\"}\n",
    "\n",
    "headers = {\n",
    "    \"X-RapidAPI-Key\": 'Introduce your API Key',  # Replace with your actual API key\n",
    "    \"X-RapidAPI-Host\": \"aerodatabox.p.rapidapi.com\"\n",
    "}\n",
    "\n",
    "response = requests.request(\"GET\",\n",
    "                            url,\n",
    "                            headers = headers,\n",
    "                            params = querystring)\n",
    "\n",
    "flights_json = response.json()\n",
    "\n",
    "flights_json[\"arrivals\"][0].keys()"
   ]
  },
  {
   "cell_type": "code",
   "execution_count": 16,
   "id": "86f63930",
   "metadata": {},
   "outputs": [],
   "source": [
    "import pandas as pd\n",
    "from datetime import datetime, timedelta\n",
    "import requests\n",
    "from pytz import timezone\n",
    "\n",
    "def get_flight_data(icao_list):\n",
    "    berlin_timezone = timezone('Europe/Berlin')\n",
    "    today = datetime.now(berlin_timezone).date()\n",
    "    tomorrow = (today + timedelta(days=1))\n",
    "\n",
    "    flight_items = []\n",
    "\n",
    "    for icao in icao_list:\n",
    "        # the api can only make 12 hour calls, therefore, 2 12 hour calls make a full day\n",
    "        # using the nested lists below we can make a morning call and extract the data\n",
    "        # then make an afternoon call and extract the data\n",
    "        times = [[\"00:00\", \"11:59\"], [\"12:00\", \"23:59\"]]\n",
    "\n",
    "        for time in times:\n",
    "            url = f\"https://aerodatabox.p.rapidapi.com/flights/airports/icao/{icao}/{tomorrow}T{time[0]}/{tomorrow}T{time[1]}\"\n",
    "\n",
    "            querystring = {\n",
    "                \"withLeg\": \"true\",\n",
    "                \"direction\": \"Arrival\",\n",
    "                \"withCancelled\": \"false\",\n",
    "                \"withCodeshared\": \"true\",\n",
    "                \"withCargo\": \"false\",\n",
    "                \"withPrivate\": \"false\"\n",
    "            }\n",
    "\n",
    "            headers = {\n",
    "                \"X-RapidAPI-Key\": 'Introduce your API key',  # Replace with your actual API key\n",
    "                \"X-RapidAPI-Host\": \"aerodatabox.p.rapidapi.com\"\n",
    "            }\n",
    "\n",
    "            response = requests.request(\"GET\", url, headers=headers, params=querystring)\n",
    "            flights_json = response.json()\n",
    "            retrieval_time = datetime.now(berlin_timezone).strftime(\"%Y-%m-%d %H:%M:%S\")\n",
    "\n",
    "            for item in flights_json[\"arrivals\"]:\n",
    "                flight_item = {\n",
    "                    \"arrival_airport_icao\": icao,\n",
    "                    \"departure_airport_icao\": item[\"departure\"][\"airport\"].get(\"icao\", None),\n",
    "                    \"scheduled_arrival_time\": item[\"arrival\"][\"scheduledTime\"].get(\"local\", None),\n",
    "                    \"flight_number\": item.get(\"number\", None),\n",
    "                    \"date_retrieved_at\": retrieval_time\n",
    "                }\n",
    "\n",
    "                flight_items.append(flight_item)\n",
    "\n",
    "    flights_df = pd.DataFrame(flight_items)\n",
    "    flights_df[\"scheduled_arrival_time\"] = flights_df[\"scheduled_arrival_time\"].str[:-6]\n",
    "    flights_df[\"scheduled_arrival_time\"] = pd.to_datetime(flights_df[\"scheduled_arrival_time\"])\n",
    "    flights_df[\"date_retrieved_at\"] = pd.to_datetime(flights_df[\"date_retrieved_at\"])\n",
    "\n",
    "    return flights_df\n"
   ]
  },
  {
   "cell_type": "code",
   "execution_count": 17,
   "id": "b4c39f82",
   "metadata": {},
   "outputs": [
    {
     "data": {
      "text/html": [
       "<div>\n",
       "<style scoped>\n",
       "    .dataframe tbody tr th:only-of-type {\n",
       "        vertical-align: middle;\n",
       "    }\n",
       "\n",
       "    .dataframe tbody tr th {\n",
       "        vertical-align: top;\n",
       "    }\n",
       "\n",
       "    .dataframe thead th {\n",
       "        text-align: right;\n",
       "    }\n",
       "</style>\n",
       "<table border=\"1\" class=\"dataframe\">\n",
       "  <thead>\n",
       "    <tr style=\"text-align: right;\">\n",
       "      <th></th>\n",
       "      <th>arrival_airport_icao</th>\n",
       "      <th>departure_airport_icao</th>\n",
       "      <th>scheduled_arrival_time</th>\n",
       "      <th>flight_number</th>\n",
       "      <th>date_retrieved_at</th>\n",
       "    </tr>\n",
       "  </thead>\n",
       "  <tbody>\n",
       "    <tr>\n",
       "      <th>0</th>\n",
       "      <td>EDDM</td>\n",
       "      <td>VABB</td>\n",
       "      <td>2024-01-19 05:40:00</td>\n",
       "      <td>LH 767</td>\n",
       "      <td>2024-01-18 13:43:40</td>\n",
       "    </tr>\n",
       "    <tr>\n",
       "      <th>1</th>\n",
       "      <td>EDDM</td>\n",
       "      <td>WSSS</td>\n",
       "      <td>2024-01-19 05:45:00</td>\n",
       "      <td>LH 791</td>\n",
       "      <td>2024-01-18 13:43:40</td>\n",
       "    </tr>\n",
       "    <tr>\n",
       "      <th>2</th>\n",
       "      <td>EDDM</td>\n",
       "      <td>VTBS</td>\n",
       "      <td>2024-01-19 05:50:00</td>\n",
       "      <td>LH 773</td>\n",
       "      <td>2024-01-18 13:43:40</td>\n",
       "    </tr>\n",
       "    <tr>\n",
       "      <th>3</th>\n",
       "      <td>EDDM</td>\n",
       "      <td>ZBAA</td>\n",
       "      <td>2024-01-19 06:00:00</td>\n",
       "      <td>CA 961</td>\n",
       "      <td>2024-01-18 13:43:40</td>\n",
       "    </tr>\n",
       "    <tr>\n",
       "      <th>4</th>\n",
       "      <td>EDDM</td>\n",
       "      <td>LRTR</td>\n",
       "      <td>2024-01-19 06:05:00</td>\n",
       "      <td>LH 1661</td>\n",
       "      <td>2024-01-18 13:43:40</td>\n",
       "    </tr>\n",
       "  </tbody>\n",
       "</table>\n",
       "</div>"
      ],
      "text/plain": [
       "  arrival_airport_icao departure_airport_icao scheduled_arrival_time  \\\n",
       "0                 EDDM                   VABB    2024-01-19 05:40:00   \n",
       "1                 EDDM                   WSSS    2024-01-19 05:45:00   \n",
       "2                 EDDM                   VTBS    2024-01-19 05:50:00   \n",
       "3                 EDDM                   ZBAA    2024-01-19 06:00:00   \n",
       "4                 EDDM                   LRTR    2024-01-19 06:05:00   \n",
       "\n",
       "  flight_number   date_retrieved_at  \n",
       "0        LH 767 2024-01-18 13:43:40  \n",
       "1        LH 791 2024-01-18 13:43:40  \n",
       "2        LH 773 2024-01-18 13:43:40  \n",
       "3        CA 961 2024-01-18 13:43:40  \n",
       "4       LH 1661 2024-01-18 13:43:40  "
      ]
     },
     "execution_count": 17,
     "metadata": {},
     "output_type": "execute_result"
    }
   ],
   "source": [
    "# List of valid ICAO codes\n",
    "icao_list = [\"EDDM\", \"EDDH\", \"EDDB\"]  # Example list\n",
    "\n",
    "# Call the function and store the result in flights_df\n",
    "flights_df = get_flight_data(icao_list)\n",
    "\n",
    "flights_df.head()\n"
   ]
  },
  {
   "cell_type": "code",
   "execution_count": 18,
   "id": "3a2dfeba",
   "metadata": {},
   "outputs": [
    {
     "data": {
      "text/plain": [
       "687"
      ]
     },
     "execution_count": 18,
     "metadata": {},
     "output_type": "execute_result"
    }
   ],
   "source": [
    "from sqlalchemy import create_engine\n",
    "\n",
    "schema = \"gans_db\"  # name of the database you want to use here\n",
    "host = \"127.0.0.1\"                 # to connect to your local server\n",
    "user = \"root\"\n",
    "password = \"Introduce your password\"      # your password!!!!\n",
    "port = 3306\n",
    "# Initialize engine\n",
    "connection_string = f'mysql+pymysql://{user}:{password}@{host}:{port}/{schema}'\n",
    "engine = create_engine(connection_string)\n",
    "\n",
    "flights_df.to_sql('flights_arrivals', con=engine, if_exists='append', index=False)\n"
   ]
  }
 ],
 "metadata": {
  "kernelspec": {
   "display_name": "Python 3 (ipykernel)",
   "language": "python",
   "name": "python3"
  },
  "language_info": {
   "codemirror_mode": {
    "name": "ipython",
    "version": 3
   },
   "file_extension": ".py",
   "mimetype": "text/x-python",
   "name": "python",
   "nbconvert_exporter": "python",
   "pygments_lexer": "ipython3",
   "version": "3.11.5"
  }
 },
 "nbformat": 4,
 "nbformat_minor": 5
}
