{
 "cells": [
  {
   "cell_type": "code",
   "execution_count": 8,
   "id": "5c334603",
   "metadata": {},
   "outputs": [],
   "source": [
    "#OpenWeatherMap data via API"
   ]
  },
  {
   "cell_type": "code",
   "execution_count": 13,
   "id": "0193d5e8",
   "metadata": {},
   "outputs": [],
   "source": [
    "import requests\n",
    "import pandas as pd\n",
    "\n",
    "def weather_forecast(cities):\n",
    "    API_key = 'Introduce your API Key'\n",
    "\n",
    "    all_rows = []\n",
    "\n",
    "    for city in cities:\n",
    "        weather = requests.get(f\"http://api.openweathermap.org/data/2.5/forecast?q={city}&appid={API_key}&units=metric\")\n",
    "        weather_json = weather.json()\n",
    "        for item in weather_json['list']:\n",
    "            row = {\n",
    "                    'city': city,\n",
    "                    'datetime': item['dt_txt'],\n",
    "                    'temp': item.get('main', {}).get('temp'),\n",
    "                    'pressure': item.get('main', {}).get('pressure'),\n",
    "                    'humidity': item.get('main', {}).get('humidity'),\n",
    "                    'weather_main': item['weather'][0].get('main') if 'weather' in item and item['weather'] else None,\n",
    "                    'weather_description': item['weather'][0].get('description') if 'weather' in item and item['weather'] else None,\n",
    "                    'rain_in_last_3h': item.get('rain', {}).get('3h', 0),\n",
    "                    'clouds_all': item.get('clouds', {}).get('all'),\n",
    "                    'wind_speed': item.get('wind', {}).get('speed'),\n",
    "                    'wind_deg': item.get('wind', {}).get('deg'),\n",
    "                    'visibility': item.get('visibility')\n",
    "                }\n",
    "        all_rows.append(row)\n",
    "    \n",
    "\n",
    "    weather_df = pd.DataFrame(all_rows)\n",
    "    return weather_df\n",
    "\n"
   ]
  },
  {
   "cell_type": "code",
   "execution_count": 14,
   "id": "8215401e",
   "metadata": {},
   "outputs": [
    {
     "data": {
      "text/html": [
       "<div>\n",
       "<style scoped>\n",
       "    .dataframe tbody tr th:only-of-type {\n",
       "        vertical-align: middle;\n",
       "    }\n",
       "\n",
       "    .dataframe tbody tr th {\n",
       "        vertical-align: top;\n",
       "    }\n",
       "\n",
       "    .dataframe thead th {\n",
       "        text-align: right;\n",
       "    }\n",
       "</style>\n",
       "<table border=\"1\" class=\"dataframe\">\n",
       "  <thead>\n",
       "    <tr style=\"text-align: right;\">\n",
       "      <th></th>\n",
       "      <th>city</th>\n",
       "      <th>datetime</th>\n",
       "      <th>temp</th>\n",
       "      <th>pressure</th>\n",
       "      <th>humidity</th>\n",
       "      <th>weather_main</th>\n",
       "      <th>weather_description</th>\n",
       "      <th>rain_in_last_3h</th>\n",
       "      <th>clouds_all</th>\n",
       "      <th>wind_speed</th>\n",
       "      <th>wind_deg</th>\n",
       "      <th>visibility</th>\n",
       "    </tr>\n",
       "  </thead>\n",
       "  <tbody>\n",
       "    <tr>\n",
       "      <th>0</th>\n",
       "      <td>Berlin</td>\n",
       "      <td>2024-01-20 09:00:00</td>\n",
       "      <td>-3.03</td>\n",
       "      <td>1029</td>\n",
       "      <td>81</td>\n",
       "      <td>Clouds</td>\n",
       "      <td>few clouds</td>\n",
       "      <td>0</td>\n",
       "      <td>16</td>\n",
       "      <td>3.54</td>\n",
       "      <td>199</td>\n",
       "      <td>10000</td>\n",
       "    </tr>\n",
       "    <tr>\n",
       "      <th>1</th>\n",
       "      <td>Hamburg</td>\n",
       "      <td>2024-01-20 09:00:00</td>\n",
       "      <td>-1.48</td>\n",
       "      <td>1025</td>\n",
       "      <td>84</td>\n",
       "      <td>Clouds</td>\n",
       "      <td>overcast clouds</td>\n",
       "      <td>0</td>\n",
       "      <td>98</td>\n",
       "      <td>4.78</td>\n",
       "      <td>208</td>\n",
       "      <td>10000</td>\n",
       "    </tr>\n",
       "    <tr>\n",
       "      <th>2</th>\n",
       "      <td>Munich</td>\n",
       "      <td>2024-01-20 09:00:00</td>\n",
       "      <td>-4.14</td>\n",
       "      <td>1030</td>\n",
       "      <td>69</td>\n",
       "      <td>Clear</td>\n",
       "      <td>clear sky</td>\n",
       "      <td>0</td>\n",
       "      <td>7</td>\n",
       "      <td>3.34</td>\n",
       "      <td>113</td>\n",
       "      <td>10000</td>\n",
       "    </tr>\n",
       "  </tbody>\n",
       "</table>\n",
       "</div>"
      ],
      "text/plain": [
       "      city             datetime  temp  pressure  humidity weather_main  \\\n",
       "0   Berlin  2024-01-20 09:00:00 -3.03      1029        81       Clouds   \n",
       "1  Hamburg  2024-01-20 09:00:00 -1.48      1025        84       Clouds   \n",
       "2   Munich  2024-01-20 09:00:00 -4.14      1030        69        Clear   \n",
       "\n",
       "  weather_description  rain_in_last_3h  clouds_all  wind_speed  wind_deg  \\\n",
       "0          few clouds                0          16        3.54       199   \n",
       "1     overcast clouds                0          98        4.78       208   \n",
       "2           clear sky                0           7        3.34       113   \n",
       "\n",
       "   visibility  \n",
       "0       10000  \n",
       "1       10000  \n",
       "2       10000  "
      ]
     },
     "execution_count": 14,
     "metadata": {},
     "output_type": "execute_result"
    }
   ],
   "source": [
    "list_of_cities = ['Berlin','Hamburg', \"Munich\"]\n",
    "weather_df = weather_forecast(list_of_cities)\n",
    "weather_df"
   ]
  },
  {
   "cell_type": "code",
   "execution_count": 11,
   "id": "c81dbb53",
   "metadata": {},
   "outputs": [
    {
     "data": {
      "text/plain": [
       "120"
      ]
     },
     "execution_count": 11,
     "metadata": {},
     "output_type": "execute_result"
    }
   ],
   "source": [
    "from sqlalchemy import create_engine\n",
    "\n",
    "schema = \"gans_db\"  # name of the database you want to use here\n",
    "host = \"127.0.0.1\"                 # to connect to your local server\n",
    "user = \"root\"\n",
    "password = \"Introduce your password\"      # your password!!!!\n",
    "port = 3306\n",
    "# Initialize engine\n",
    "connection_string = f'mysql+pymysql://{user}:{password}@{host}:{port}/{schema}'\n",
    "engine = create_engine(connection_string)\n",
    "\n",
    "# Now, use the engine to write DataFrame to SQL\n",
    "weather_df.to_sql('weather',          # 'weather' -> table name\n",
    "                  if_exists='append', # if_exists -> will create new table if doesn't exist, otherwise, 'append' - will append data to existing table\n",
    "                  con=engine,         # con\n",
    "                  index=False)        # index -> whether to write DataFrame index as a column in the table\n"
   ]
  }
 ],
 "metadata": {
  "kernelspec": {
   "display_name": "Python 3 (ipykernel)",
   "language": "python",
   "name": "python3"
  },
  "language_info": {
   "codemirror_mode": {
    "name": "ipython",
    "version": 3
   },
   "file_extension": ".py",
   "mimetype": "text/x-python",
   "name": "python",
   "nbconvert_exporter": "python",
   "pygments_lexer": "ipython3",
   "version": "3.11.5"
  }
 },
 "nbformat": 4,
 "nbformat_minor": 5
}
