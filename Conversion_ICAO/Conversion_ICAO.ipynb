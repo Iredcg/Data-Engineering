{
 "cells": [
  {
   "cell_type": "code",
   "execution_count": 1,
   "id": "c109e8af",
   "metadata": {},
   "outputs": [],
   "source": [
    "import requests\n",
    "import json\n",
    "import pandas as pd\n",
    "import re\n",
    "from IPython.core import error"
   ]
  },
  {
   "cell_type": "code",
   "execution_count": 3,
   "id": "6b226b0d",
   "metadata": {},
   "outputs": [
    {
     "data": {
      "text/html": [
       "<div>\n",
       "<style scoped>\n",
       "    .dataframe tbody tr th:only-of-type {\n",
       "        vertical-align: middle;\n",
       "    }\n",
       "\n",
       "    .dataframe tbody tr th {\n",
       "        vertical-align: top;\n",
       "    }\n",
       "\n",
       "    .dataframe thead th {\n",
       "        text-align: right;\n",
       "    }\n",
       "</style>\n",
       "<table border=\"1\" class=\"dataframe\">\n",
       "  <thead>\n",
       "    <tr style=\"text-align: right;\">\n",
       "      <th></th>\n",
       "      <th>icao</th>\n",
       "      <th>city</th>\n",
       "    </tr>\n",
       "  </thead>\n",
       "  <tbody>\n",
       "    <tr>\n",
       "      <th>0</th>\n",
       "      <td>EDDM</td>\n",
       "      <td>Munich</td>\n",
       "    </tr>\n",
       "    <tr>\n",
       "      <th>1</th>\n",
       "      <td>EDDH</td>\n",
       "      <td>Hamburg</td>\n",
       "    </tr>\n",
       "    <tr>\n",
       "      <th>2</th>\n",
       "      <td>EDDB</td>\n",
       "      <td>Berlin</td>\n",
       "    </tr>\n",
       "  </tbody>\n",
       "</table>\n",
       "</div>"
      ],
      "text/plain": [
       "   icao     city\n",
       "0  EDDM   Munich\n",
       "1  EDDH  Hamburg\n",
       "2  EDDB   Berlin"
      ]
     },
     "execution_count": 3,
     "metadata": {},
     "output_type": "execute_result"
    }
   ],
   "source": [
    "icao = [\"EDDM\", \"EDDH\", \"EDDB\"]\n",
    "city = ['Munich', 'Hamburg', 'Berlin']\n",
    "airport_table_df = pd.DataFrame({'icao' : icao,\n",
    "                                'city' : city})\n",
    "\n",
    "airport_table_df"
   ]
  },
  {
   "cell_type": "code",
   "execution_count": 4,
   "id": "5681d7eb",
   "metadata": {},
   "outputs": [
    {
     "data": {
      "text/plain": [
       "3"
      ]
     },
     "execution_count": 4,
     "metadata": {},
     "output_type": "execute_result"
    }
   ],
   "source": [
    "from sqlalchemy import create_engine\n",
    "\n",
    "schema = \"gans_db\"  # name of the database you want to use here\n",
    "host = \"127.0.0.1\"                 # to connect to your local server\n",
    "user = \"root\"\n",
    "password = \"Introduce your password\"      # your password!!!!\n",
    "port = 3306\n",
    "# Initialize engine\n",
    "connection_string = f'mysql+pymysql://{user}:{password}@{host}:{port}/{schema}'\n",
    "engine = create_engine(connection_string)\n",
    "\n",
    "airport_table_df.to_sql('airport_table',         # 'iss_logs'-> table name;\n",
    "              if_exists='append', # if_exists -> will create new table if doesn't exist, otherwise, 'append' - will append data to existing table;\n",
    "              con=engine,            # con-> connection string;\n",
    "              index=False) "
   ]
  }
 ],
 "metadata": {
  "kernelspec": {
   "display_name": "Python 3 (ipykernel)",
   "language": "python",
   "name": "python3"
  },
  "language_info": {
   "codemirror_mode": {
    "name": "ipython",
    "version": 3
   },
   "file_extension": ".py",
   "mimetype": "text/x-python",
   "name": "python",
   "nbconvert_exporter": "python",
   "pygments_lexer": "ipython3",
   "version": "3.11.5"
  }
 },
 "nbformat": 4,
 "nbformat_minor": 5
}
